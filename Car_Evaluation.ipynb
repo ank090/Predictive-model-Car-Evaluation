{
  "nbformat": 4,
  "nbformat_minor": 0,
  "metadata": {
    "colab": {
      "name": "Car Evaluation.ipynb",
      "provenance": [],
      "collapsed_sections": [],
      "authorship_tag": "ABX9TyNHc9xTjCQhdqhWuQqfKHo2",
      "include_colab_link": true
    },
    "kernelspec": {
      "name": "python3",
      "display_name": "Python 3"
    },
    "language_info": {
      "name": "python"
    }
  },
  "cells": [
    {
      "cell_type": "markdown",
      "metadata": {
        "id": "view-in-github",
        "colab_type": "text"
      },
      "source": [
        "<a href=\"https://colab.research.google.com/github/ank090/Predictive-model-Car-Evaluation/blob/main/Car_Evaluation.ipynb\" target=\"_parent\"><img src=\"https://colab.research.google.com/assets/colab-badge.svg\" alt=\"Open In Colab\"/></a>"
      ]
    },
    {
      "cell_type": "code",
      "metadata": {
        "colab": {
          "base_uri": "https://localhost:8080/"
        },
        "id": "wa_tGt24ltid",
        "outputId": "6c5ed944-b6d4-4cc6-97b2-55989bc84c12"
      },
      "source": [
        "pip install category_encoders"
      ],
      "execution_count": 16,
      "outputs": [
        {
          "output_type": "stream",
          "name": "stdout",
          "text": [
            "Requirement already satisfied: category_encoders in /usr/local/lib/python3.7/dist-packages (2.3.0)\n",
            "Requirement already satisfied: statsmodels>=0.9.0 in /usr/local/lib/python3.7/dist-packages (from category_encoders) (0.10.2)\n",
            "Requirement already satisfied: scipy>=1.0.0 in /usr/local/lib/python3.7/dist-packages (from category_encoders) (1.4.1)\n",
            "Requirement already satisfied: numpy>=1.14.0 in /usr/local/lib/python3.7/dist-packages (from category_encoders) (1.19.5)\n",
            "Requirement already satisfied: pandas>=0.21.1 in /usr/local/lib/python3.7/dist-packages (from category_encoders) (1.1.5)\n",
            "Requirement already satisfied: patsy>=0.5.1 in /usr/local/lib/python3.7/dist-packages (from category_encoders) (0.5.2)\n",
            "Requirement already satisfied: scikit-learn>=0.20.0 in /usr/local/lib/python3.7/dist-packages (from category_encoders) (0.22.2.post1)\n",
            "Requirement already satisfied: pytz>=2017.2 in /usr/local/lib/python3.7/dist-packages (from pandas>=0.21.1->category_encoders) (2018.9)\n",
            "Requirement already satisfied: python-dateutil>=2.7.3 in /usr/local/lib/python3.7/dist-packages (from pandas>=0.21.1->category_encoders) (2.8.2)\n",
            "Requirement already satisfied: six in /usr/local/lib/python3.7/dist-packages (from patsy>=0.5.1->category_encoders) (1.15.0)\n",
            "Requirement already satisfied: joblib>=0.11 in /usr/local/lib/python3.7/dist-packages (from scikit-learn>=0.20.0->category_encoders) (1.1.0)\n"
          ]
        }
      ]
    },
    {
      "cell_type": "code",
      "metadata": {
        "id": "dCkHFs2ASHyf"
      },
      "source": [
        "import pandas as pd\n",
        "import numpy as np\n",
        "from sklearn.compose import ColumnTransformer\n",
        "from category_encoders import OneHotEncoder\n",
        "from sklearn.model_selection import train_test_split\n",
        "from sklearn.ensemble import RandomForestClassifier\n",
        "from sklearn.metrics import classification_report\n",
        "from sklearn.preprocessing import StandardScaler\n",
        "from sklearn.neighbors import KNeighborsClassifier \n",
        "from sklearn.naive_bayes import GaussianNB\n",
        "from sklearn.linear_model import LogisticRegression\n",
        "from sklearn.tree import DecisionTreeClassifier\n",
        "from sklearn.svm import SVC  "
      ],
      "execution_count": 17,
      "outputs": []
    },
    {
      "cell_type": "code",
      "metadata": {
        "id": "Boyb13M0SaBV"
      },
      "source": [
        "dataset=pd.read_csv('cars.csv')\n",
        "x=dataset.iloc[:,1:-1]\n",
        "y=dataset.iloc[:,-1]"
      ],
      "execution_count": 18,
      "outputs": []
    },
    {
      "cell_type": "code",
      "metadata": {
        "id": "iJW74uyoWfzV",
        "colab": {
          "base_uri": "https://localhost:8080/"
        },
        "outputId": "628e54fb-5695-4c71-faeb-8e70252cdfb2"
      },
      "source": [
        "x.iloc[:,0:2].replace({'vhigh':3,'high':2,'med':1,'low':0},inplace=True) \n",
        "x.iloc[:,-2].replace({'small':0,'med':1,'big':2},inplace=True)\n",
        "x.iloc[:,-1].replace({'low':0,'med':1,'high':2},inplace=True)\n",
        "#ct=ColumnTransformer(transformers=[('encoder',OneHotEncoder(),[2])],remainder='passthrough')\n",
        "oe=OneHotEncoder(cols=['persons','doors'])\n",
        "x=oe.fit_transform(x)\n",
        "x=x.drop(['persons_1','doors_1'],axis='columns')"
      ],
      "execution_count": 19,
      "outputs": [
        {
          "output_type": "stream",
          "name": "stderr",
          "text": [
            "/usr/local/lib/python3.7/dist-packages/pandas/core/frame.py:4389: SettingWithCopyWarning: \n",
            "A value is trying to be set on a copy of a slice from a DataFrame\n",
            "\n",
            "See the caveats in the documentation: https://pandas.pydata.org/pandas-docs/stable/user_guide/indexing.html#returning-a-view-versus-a-copy\n",
            "  method=method,\n"
          ]
        }
      ]
    },
    {
      "cell_type": "markdown",
      "metadata": {
        "id": "iLClvKeTnXHH"
      },
      "source": [
        "Splitting data into training and test dataset"
      ]
    },
    {
      "cell_type": "code",
      "metadata": {
        "colab": {
          "base_uri": "https://localhost:8080/",
          "height": 419
        },
        "id": "6eKedBjCne5B",
        "outputId": "547a01b9-43d9-4e06-d281-83680a574c6a"
      },
      "source": [
        "xtrain,xtest,ytrain,ytest=train_test_split(x,y,test_size=0.2,random_state=42)\n",
        "xtrain"
      ],
      "execution_count": 20,
      "outputs": [
        {
          "output_type": "execute_result",
          "data": {
            "text/html": [
              "<div>\n",
              "<style scoped>\n",
              "    .dataframe tbody tr th:only-of-type {\n",
              "        vertical-align: middle;\n",
              "    }\n",
              "\n",
              "    .dataframe tbody tr th {\n",
              "        vertical-align: top;\n",
              "    }\n",
              "\n",
              "    .dataframe thead th {\n",
              "        text-align: right;\n",
              "    }\n",
              "</style>\n",
              "<table border=\"1\" class=\"dataframe\">\n",
              "  <thead>\n",
              "    <tr style=\"text-align: right;\">\n",
              "      <th></th>\n",
              "      <th>buying</th>\n",
              "      <th>maint</th>\n",
              "      <th>doors_2</th>\n",
              "      <th>doors_3</th>\n",
              "      <th>doors_4</th>\n",
              "      <th>persons_2</th>\n",
              "      <th>persons_3</th>\n",
              "      <th>lug_boot</th>\n",
              "      <th>safety</th>\n",
              "    </tr>\n",
              "  </thead>\n",
              "  <tbody>\n",
              "    <tr>\n",
              "      <th>107</th>\n",
              "      <td>3</td>\n",
              "      <td>3</td>\n",
              "      <td>0</td>\n",
              "      <td>0</td>\n",
              "      <td>1</td>\n",
              "      <td>0</td>\n",
              "      <td>1</td>\n",
              "      <td>2</td>\n",
              "      <td>2</td>\n",
              "    </tr>\n",
              "    <tr>\n",
              "      <th>901</th>\n",
              "      <td>1</td>\n",
              "      <td>3</td>\n",
              "      <td>1</td>\n",
              "      <td>0</td>\n",
              "      <td>0</td>\n",
              "      <td>1</td>\n",
              "      <td>0</td>\n",
              "      <td>0</td>\n",
              "      <td>1</td>\n",
              "    </tr>\n",
              "    <tr>\n",
              "      <th>1709</th>\n",
              "      <td>0</td>\n",
              "      <td>0</td>\n",
              "      <td>0</td>\n",
              "      <td>0</td>\n",
              "      <td>1</td>\n",
              "      <td>0</td>\n",
              "      <td>0</td>\n",
              "      <td>2</td>\n",
              "      <td>2</td>\n",
              "    </tr>\n",
              "    <tr>\n",
              "      <th>706</th>\n",
              "      <td>2</td>\n",
              "      <td>1</td>\n",
              "      <td>0</td>\n",
              "      <td>1</td>\n",
              "      <td>0</td>\n",
              "      <td>0</td>\n",
              "      <td>0</td>\n",
              "      <td>1</td>\n",
              "      <td>1</td>\n",
              "    </tr>\n",
              "    <tr>\n",
              "      <th>678</th>\n",
              "      <td>2</td>\n",
              "      <td>1</td>\n",
              "      <td>1</td>\n",
              "      <td>0</td>\n",
              "      <td>0</td>\n",
              "      <td>0</td>\n",
              "      <td>0</td>\n",
              "      <td>1</td>\n",
              "      <td>0</td>\n",
              "    </tr>\n",
              "    <tr>\n",
              "      <th>...</th>\n",
              "      <td>...</td>\n",
              "      <td>...</td>\n",
              "      <td>...</td>\n",
              "      <td>...</td>\n",
              "      <td>...</td>\n",
              "      <td>...</td>\n",
              "      <td>...</td>\n",
              "      <td>...</td>\n",
              "      <td>...</td>\n",
              "    </tr>\n",
              "    <tr>\n",
              "      <th>1130</th>\n",
              "      <td>1</td>\n",
              "      <td>1</td>\n",
              "      <td>1</td>\n",
              "      <td>0</td>\n",
              "      <td>0</td>\n",
              "      <td>0</td>\n",
              "      <td>1</td>\n",
              "      <td>1</td>\n",
              "      <td>2</td>\n",
              "    </tr>\n",
              "    <tr>\n",
              "      <th>1294</th>\n",
              "      <td>1</td>\n",
              "      <td>0</td>\n",
              "      <td>0</td>\n",
              "      <td>0</td>\n",
              "      <td>1</td>\n",
              "      <td>0</td>\n",
              "      <td>1</td>\n",
              "      <td>2</td>\n",
              "      <td>1</td>\n",
              "    </tr>\n",
              "    <tr>\n",
              "      <th>860</th>\n",
              "      <td>2</td>\n",
              "      <td>0</td>\n",
              "      <td>0</td>\n",
              "      <td>0</td>\n",
              "      <td>1</td>\n",
              "      <td>0</td>\n",
              "      <td>1</td>\n",
              "      <td>1</td>\n",
              "      <td>2</td>\n",
              "    </tr>\n",
              "    <tr>\n",
              "      <th>1459</th>\n",
              "      <td>0</td>\n",
              "      <td>2</td>\n",
              "      <td>0</td>\n",
              "      <td>1</td>\n",
              "      <td>0</td>\n",
              "      <td>0</td>\n",
              "      <td>0</td>\n",
              "      <td>0</td>\n",
              "      <td>1</td>\n",
              "    </tr>\n",
              "    <tr>\n",
              "      <th>1126</th>\n",
              "      <td>1</td>\n",
              "      <td>1</td>\n",
              "      <td>1</td>\n",
              "      <td>0</td>\n",
              "      <td>0</td>\n",
              "      <td>0</td>\n",
              "      <td>1</td>\n",
              "      <td>0</td>\n",
              "      <td>1</td>\n",
              "    </tr>\n",
              "  </tbody>\n",
              "</table>\n",
              "<p>1382 rows × 9 columns</p>\n",
              "</div>"
            ],
            "text/plain": [
              "     buying maint  doors_2  doors_3  ...  persons_2  persons_3  lug_boot  safety\n",
              "107       3     3        0        0  ...          0          1         2       2\n",
              "901       1     3        1        0  ...          1          0         0       1\n",
              "1709      0     0        0        0  ...          0          0         2       2\n",
              "706       2     1        0        1  ...          0          0         1       1\n",
              "678       2     1        1        0  ...          0          0         1       0\n",
              "...     ...   ...      ...      ...  ...        ...        ...       ...     ...\n",
              "1130      1     1        1        0  ...          0          1         1       2\n",
              "1294      1     0        0        0  ...          0          1         2       1\n",
              "860       2     0        0        0  ...          0          1         1       2\n",
              "1459      0     2        0        1  ...          0          0         0       1\n",
              "1126      1     1        1        0  ...          0          1         0       1\n",
              "\n",
              "[1382 rows x 9 columns]"
            ]
          },
          "metadata": {},
          "execution_count": 20
        }
      ]
    },
    {
      "cell_type": "markdown",
      "metadata": {
        "id": "AfCgRIt9BDb3"
      },
      "source": [
        "Feature scaling"
      ]
    },
    {
      "cell_type": "code",
      "metadata": {
        "colab": {
          "base_uri": "https://localhost:8080/",
          "height": 827
        },
        "id": "Zn-pzUheBDMb",
        "outputId": "468ecb37-4601-492f-ce59-af702da262e2"
      },
      "source": [
        "sc=StandardScaler()\n",
        "xtrain.iloc[:,:2]=sc.fit_transform(xtrain.iloc[:,:2])\n",
        "xtest.iloc[:,:2]=sc.fit_transform(xtest.iloc[:,:2])\n",
        "xtrain.iloc[:,-2:]=sc.fit_transform(xtrain.iloc[:,-2:])\n",
        "xtest.iloc[:,-2:]=sc.fit_transform(xtest.iloc[:,-2:])\n",
        "xtrain"
      ],
      "execution_count": 21,
      "outputs": [
        {
          "output_type": "stream",
          "name": "stderr",
          "text": [
            "/usr/local/lib/python3.7/dist-packages/pandas/core/indexing.py:1734: SettingWithCopyWarning: \n",
            "A value is trying to be set on a copy of a slice from a DataFrame.\n",
            "Try using .loc[row_indexer,col_indexer] = value instead\n",
            "\n",
            "See the caveats in the documentation: https://pandas.pydata.org/pandas-docs/stable/user_guide/indexing.html#returning-a-view-versus-a-copy\n",
            "  isetter(loc, value[:, i].tolist())\n",
            "/usr/local/lib/python3.7/dist-packages/pandas/core/indexing.py:1734: SettingWithCopyWarning: \n",
            "A value is trying to be set on a copy of a slice from a DataFrame.\n",
            "Try using .loc[row_indexer,col_indexer] = value instead\n",
            "\n",
            "See the caveats in the documentation: https://pandas.pydata.org/pandas-docs/stable/user_guide/indexing.html#returning-a-view-versus-a-copy\n",
            "  isetter(loc, value[:, i].tolist())\n",
            "/usr/local/lib/python3.7/dist-packages/pandas/core/indexing.py:1734: SettingWithCopyWarning: \n",
            "A value is trying to be set on a copy of a slice from a DataFrame.\n",
            "Try using .loc[row_indexer,col_indexer] = value instead\n",
            "\n",
            "See the caveats in the documentation: https://pandas.pydata.org/pandas-docs/stable/user_guide/indexing.html#returning-a-view-versus-a-copy\n",
            "  isetter(loc, value[:, i].tolist())\n",
            "/usr/local/lib/python3.7/dist-packages/pandas/core/indexing.py:1734: SettingWithCopyWarning: \n",
            "A value is trying to be set on a copy of a slice from a DataFrame.\n",
            "Try using .loc[row_indexer,col_indexer] = value instead\n",
            "\n",
            "See the caveats in the documentation: https://pandas.pydata.org/pandas-docs/stable/user_guide/indexing.html#returning-a-view-versus-a-copy\n",
            "  isetter(loc, value[:, i].tolist())\n"
          ]
        },
        {
          "output_type": "execute_result",
          "data": {
            "text/html": [
              "<div>\n",
              "<style scoped>\n",
              "    .dataframe tbody tr th:only-of-type {\n",
              "        vertical-align: middle;\n",
              "    }\n",
              "\n",
              "    .dataframe tbody tr th {\n",
              "        vertical-align: top;\n",
              "    }\n",
              "\n",
              "    .dataframe thead th {\n",
              "        text-align: right;\n",
              "    }\n",
              "</style>\n",
              "<table border=\"1\" class=\"dataframe\">\n",
              "  <thead>\n",
              "    <tr style=\"text-align: right;\">\n",
              "      <th></th>\n",
              "      <th>buying</th>\n",
              "      <th>maint</th>\n",
              "      <th>doors_2</th>\n",
              "      <th>doors_3</th>\n",
              "      <th>doors_4</th>\n",
              "      <th>persons_2</th>\n",
              "      <th>persons_3</th>\n",
              "      <th>lug_boot</th>\n",
              "      <th>safety</th>\n",
              "    </tr>\n",
              "  </thead>\n",
              "  <tbody>\n",
              "    <tr>\n",
              "      <th>107</th>\n",
              "      <td>1.360492</td>\n",
              "      <td>1.349331</td>\n",
              "      <td>0</td>\n",
              "      <td>0</td>\n",
              "      <td>1</td>\n",
              "      <td>0</td>\n",
              "      <td>1</td>\n",
              "      <td>1.224748</td>\n",
              "      <td>1.23546</td>\n",
              "    </tr>\n",
              "    <tr>\n",
              "      <th>901</th>\n",
              "      <td>-0.432736</td>\n",
              "      <td>1.349331</td>\n",
              "      <td>1</td>\n",
              "      <td>0</td>\n",
              "      <td>0</td>\n",
              "      <td>1</td>\n",
              "      <td>0</td>\n",
              "      <td>-1.221208</td>\n",
              "      <td>0.01239</td>\n",
              "    </tr>\n",
              "    <tr>\n",
              "      <th>1709</th>\n",
              "      <td>-1.329350</td>\n",
              "      <td>-1.362412</td>\n",
              "      <td>0</td>\n",
              "      <td>0</td>\n",
              "      <td>1</td>\n",
              "      <td>0</td>\n",
              "      <td>0</td>\n",
              "      <td>1.224748</td>\n",
              "      <td>1.23546</td>\n",
              "    </tr>\n",
              "    <tr>\n",
              "      <th>706</th>\n",
              "      <td>0.463878</td>\n",
              "      <td>-0.458498</td>\n",
              "      <td>0</td>\n",
              "      <td>1</td>\n",
              "      <td>0</td>\n",
              "      <td>0</td>\n",
              "      <td>0</td>\n",
              "      <td>0.001770</td>\n",
              "      <td>0.01239</td>\n",
              "    </tr>\n",
              "    <tr>\n",
              "      <th>678</th>\n",
              "      <td>0.463878</td>\n",
              "      <td>-0.458498</td>\n",
              "      <td>1</td>\n",
              "      <td>0</td>\n",
              "      <td>0</td>\n",
              "      <td>0</td>\n",
              "      <td>0</td>\n",
              "      <td>0.001770</td>\n",
              "      <td>-1.21068</td>\n",
              "    </tr>\n",
              "    <tr>\n",
              "      <th>...</th>\n",
              "      <td>...</td>\n",
              "      <td>...</td>\n",
              "      <td>...</td>\n",
              "      <td>...</td>\n",
              "      <td>...</td>\n",
              "      <td>...</td>\n",
              "      <td>...</td>\n",
              "      <td>...</td>\n",
              "      <td>...</td>\n",
              "    </tr>\n",
              "    <tr>\n",
              "      <th>1130</th>\n",
              "      <td>-0.432736</td>\n",
              "      <td>-0.458498</td>\n",
              "      <td>1</td>\n",
              "      <td>0</td>\n",
              "      <td>0</td>\n",
              "      <td>0</td>\n",
              "      <td>1</td>\n",
              "      <td>0.001770</td>\n",
              "      <td>1.23546</td>\n",
              "    </tr>\n",
              "    <tr>\n",
              "      <th>1294</th>\n",
              "      <td>-0.432736</td>\n",
              "      <td>-1.362412</td>\n",
              "      <td>0</td>\n",
              "      <td>0</td>\n",
              "      <td>1</td>\n",
              "      <td>0</td>\n",
              "      <td>1</td>\n",
              "      <td>1.224748</td>\n",
              "      <td>0.01239</td>\n",
              "    </tr>\n",
              "    <tr>\n",
              "      <th>860</th>\n",
              "      <td>0.463878</td>\n",
              "      <td>-1.362412</td>\n",
              "      <td>0</td>\n",
              "      <td>0</td>\n",
              "      <td>1</td>\n",
              "      <td>0</td>\n",
              "      <td>1</td>\n",
              "      <td>0.001770</td>\n",
              "      <td>1.23546</td>\n",
              "    </tr>\n",
              "    <tr>\n",
              "      <th>1459</th>\n",
              "      <td>-1.329350</td>\n",
              "      <td>0.445417</td>\n",
              "      <td>0</td>\n",
              "      <td>1</td>\n",
              "      <td>0</td>\n",
              "      <td>0</td>\n",
              "      <td>0</td>\n",
              "      <td>-1.221208</td>\n",
              "      <td>0.01239</td>\n",
              "    </tr>\n",
              "    <tr>\n",
              "      <th>1126</th>\n",
              "      <td>-0.432736</td>\n",
              "      <td>-0.458498</td>\n",
              "      <td>1</td>\n",
              "      <td>0</td>\n",
              "      <td>0</td>\n",
              "      <td>0</td>\n",
              "      <td>1</td>\n",
              "      <td>-1.221208</td>\n",
              "      <td>0.01239</td>\n",
              "    </tr>\n",
              "  </tbody>\n",
              "</table>\n",
              "<p>1382 rows × 9 columns</p>\n",
              "</div>"
            ],
            "text/plain": [
              "        buying     maint  doors_2  ...  persons_3  lug_boot   safety\n",
              "107   1.360492  1.349331        0  ...          1  1.224748  1.23546\n",
              "901  -0.432736  1.349331        1  ...          0 -1.221208  0.01239\n",
              "1709 -1.329350 -1.362412        0  ...          0  1.224748  1.23546\n",
              "706   0.463878 -0.458498        0  ...          0  0.001770  0.01239\n",
              "678   0.463878 -0.458498        1  ...          0  0.001770 -1.21068\n",
              "...        ...       ...      ...  ...        ...       ...      ...\n",
              "1130 -0.432736 -0.458498        1  ...          1  0.001770  1.23546\n",
              "1294 -0.432736 -1.362412        0  ...          1  1.224748  0.01239\n",
              "860   0.463878 -1.362412        0  ...          1  0.001770  1.23546\n",
              "1459 -1.329350  0.445417        0  ...          0 -1.221208  0.01239\n",
              "1126 -0.432736 -0.458498        1  ...          1 -1.221208  0.01239\n",
              "\n",
              "[1382 rows x 9 columns]"
            ]
          },
          "metadata": {},
          "execution_count": 21
        }
      ]
    },
    {
      "cell_type": "markdown",
      "metadata": {
        "id": "3s4S10UEoHf8"
      },
      "source": [
        "Training the calssification models on training set\n",
        "\n"
      ]
    },
    {
      "cell_type": "markdown",
      "metadata": {
        "id": "j4TSt41YDTFd"
      },
      "source": [
        "1) Knn"
      ]
    },
    {
      "cell_type": "code",
      "metadata": {
        "colab": {
          "base_uri": "https://localhost:8080/"
        },
        "id": "x6FW5XEjoHQh",
        "outputId": "2e3ab069-1d8b-4a26-d5cc-e397c1f319ac"
      },
      "source": [
        "#print(\"select the model to use or check the scores of each \\n 1) knn\\n 2) Random Forest\\n 3) Naive bayes\\n 4) Decision tree\\n 5) Logistic regression/n 6) SVC(Support vector classificaion)\")\n",
        "knn=KNeighborsClassifier(n_neighbors=5,metric='minkowski')\n",
        "knn.fit(xtrain,ytrain)\n",
        "ypred_knn=knn.predict(xtest)\n",
        "cs=classification_report(ytest,ypred_knn)\n",
        "print(cs)"
      ],
      "execution_count": 22,
      "outputs": [
        {
          "output_type": "stream",
          "name": "stdout",
          "text": [
            "              precision    recall  f1-score   support\n",
            "\n",
            "         acc       0.84      0.78      0.81        83\n",
            "        good       0.38      0.45      0.42        11\n",
            "       unacc       0.94      0.99      0.96       235\n",
            "       vgood       1.00      0.41      0.58        17\n",
            "\n",
            "    accuracy                           0.90       346\n",
            "   macro avg       0.79      0.66      0.69       346\n",
            "weighted avg       0.90      0.90      0.89       346\n",
            "\n"
          ]
        }
      ]
    },
    {
      "cell_type": "markdown",
      "metadata": {
        "id": "Gk6uZ-ZoC9sI"
      },
      "source": [
        "2) Random forest"
      ]
    },
    {
      "cell_type": "code",
      "metadata": {
        "colab": {
          "base_uri": "https://localhost:8080/"
        },
        "id": "6G4vvaA8Cx94",
        "outputId": "123b7184-90cc-4c5d-aad9-42136c8f3e19"
      },
      "source": [
        "rf=RandomForestClassifier(n_estimators=100,criterion='entropy')\n",
        "rf.fit(xtrain,ytrain)\n",
        "ypred_rf=rf.predict(xtest)\n",
        "cs=classification_report(ytest,ypred_rf)\n",
        "print(cs)"
      ],
      "execution_count": 23,
      "outputs": [
        {
          "output_type": "stream",
          "name": "stdout",
          "text": [
            "              precision    recall  f1-score   support\n",
            "\n",
            "         acc       0.96      0.81      0.88        83\n",
            "        good       0.45      0.91      0.61        11\n",
            "       unacc       0.98      1.00      0.99       235\n",
            "       vgood       0.86      0.71      0.77        17\n",
            "\n",
            "    accuracy                           0.94       346\n",
            "   macro avg       0.81      0.86      0.81       346\n",
            "weighted avg       0.95      0.94      0.94       346\n",
            "\n"
          ]
        }
      ]
    },
    {
      "cell_type": "markdown",
      "metadata": {
        "id": "cNAQ6d5SDBeA"
      },
      "source": [
        "3) Naive Bayes"
      ]
    },
    {
      "cell_type": "code",
      "metadata": {
        "colab": {
          "base_uri": "https://localhost:8080/"
        },
        "id": "NouX9Db6C0zM",
        "outputId": "7a300fad-fa63-406e-afd7-6be048f50e11"
      },
      "source": [
        "nb=GaussianNB()\n",
        "nb.fit(xtrain,ytrain)\n",
        "ypred_nb=nb.predict(xtest)\n",
        "cs=classification_report(ytest,ypred_nb)\n",
        "print(cs)"
      ],
      "execution_count": 24,
      "outputs": [
        {
          "output_type": "stream",
          "name": "stdout",
          "text": [
            "              precision    recall  f1-score   support\n",
            "\n",
            "         acc       0.57      0.43      0.49        83\n",
            "        good       0.40      0.36      0.38        11\n",
            "       unacc       0.82      0.96      0.89       235\n",
            "       vgood       0.00      0.00      0.00        17\n",
            "\n",
            "    accuracy                           0.77       346\n",
            "   macro avg       0.45      0.44      0.44       346\n",
            "weighted avg       0.71      0.77      0.73       346\n",
            "\n"
          ]
        },
        {
          "output_type": "stream",
          "name": "stderr",
          "text": [
            "/usr/local/lib/python3.7/dist-packages/sklearn/metrics/_classification.py:1272: UndefinedMetricWarning: Precision and F-score are ill-defined and being set to 0.0 in labels with no predicted samples. Use `zero_division` parameter to control this behavior.\n",
            "  _warn_prf(average, modifier, msg_start, len(result))\n"
          ]
        }
      ]
    },
    {
      "cell_type": "markdown",
      "metadata": {
        "id": "y3as-T--DDwo"
      },
      "source": [
        "4) Decision tree"
      ]
    },
    {
      "cell_type": "code",
      "metadata": {
        "colab": {
          "base_uri": "https://localhost:8080/"
        },
        "id": "ggdRZitLC3bd",
        "outputId": "6104ce3e-30db-4fe1-ef75-a8fe19082b0c"
      },
      "source": [
        "dt=DecisionTreeClassifier(criterion='entropy')\n",
        "dt.fit(xtrain,ytrain)\n",
        "ypred_dt=dt.predict(xtest)\n",
        "cs=classification_report(ytest,ypred_dt)\n",
        "print(cs)"
      ],
      "execution_count": 25,
      "outputs": [
        {
          "output_type": "stream",
          "name": "stdout",
          "text": [
            "              precision    recall  f1-score   support\n",
            "\n",
            "         acc       0.97      0.80      0.87        83\n",
            "        good       0.48      0.91      0.62        11\n",
            "       unacc       0.98      1.00      0.99       235\n",
            "       vgood       0.83      0.88      0.86        17\n",
            "\n",
            "    accuracy                           0.94       346\n",
            "   macro avg       0.82      0.90      0.84       346\n",
            "weighted avg       0.96      0.94      0.95       346\n",
            "\n"
          ]
        }
      ]
    },
    {
      "cell_type": "markdown",
      "metadata": {
        "id": "bmVPxa9nDGos"
      },
      "source": [
        "5) Logistic regression"
      ]
    },
    {
      "cell_type": "code",
      "metadata": {
        "colab": {
          "base_uri": "https://localhost:8080/"
        },
        "id": "zTPjwFHIC53m",
        "outputId": "3b86e3fb-8754-49b2-aa39-51aab067a7a2"
      },
      "source": [
        "lr=LogisticRegression()\n",
        "lr.fit(xtrain,ytrain)\n",
        "ypred_lr=lr.predict(xtest)\n",
        "cs=classification_report(ytest,ypred_lr)\n",
        "print(cs)"
      ],
      "execution_count": 26,
      "outputs": [
        {
          "output_type": "stream",
          "name": "stdout",
          "text": [
            "              precision    recall  f1-score   support\n",
            "\n",
            "         acc       0.73      0.71      0.72        83\n",
            "        good       0.45      0.45      0.45        11\n",
            "       unacc       0.91      0.94      0.93       235\n",
            "       vgood       0.82      0.53      0.64        17\n",
            "\n",
            "    accuracy                           0.85       346\n",
            "   macro avg       0.73      0.66      0.69       346\n",
            "weighted avg       0.85      0.85      0.85       346\n",
            "\n"
          ]
        }
      ]
    },
    {
      "cell_type": "markdown",
      "metadata": {
        "id": "lvK9tLLIDKaK"
      },
      "source": [
        "6) Support vector classification"
      ]
    },
    {
      "cell_type": "code",
      "metadata": {
        "colab": {
          "base_uri": "https://localhost:8080/"
        },
        "id": "cpJRm4Q0C7uq",
        "outputId": "26c001f5-2acc-49f3-8c1a-d387aaaa76ff"
      },
      "source": [
        "sv=SVC(C=1.0,kernel='rbf',degree=3)\n",
        "sv.fit(xtrain,ytrain)\n",
        "ypred_sv=sv.predict(xtest)\n",
        "cs=classification_report(ytest,ypred_sv)\n",
        "print(cs)"
      ],
      "execution_count": 27,
      "outputs": [
        {
          "output_type": "stream",
          "name": "stdout",
          "text": [
            "              precision    recall  f1-score   support\n",
            "\n",
            "         acc       0.97      0.82      0.89        83\n",
            "        good       0.56      0.82      0.67        11\n",
            "       unacc       0.97      1.00      0.99       235\n",
            "       vgood       0.83      0.88      0.86        17\n",
            "\n",
            "    accuracy                           0.95       346\n",
            "   macro avg       0.83      0.88      0.85       346\n",
            "weighted avg       0.95      0.95      0.95       346\n",
            "\n"
          ]
        }
      ]
    }
  ]
}